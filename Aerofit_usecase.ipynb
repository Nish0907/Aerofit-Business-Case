{
  "nbformat": 4,
  "nbformat_minor": 0,
  "metadata": {
    "colab": {
      "provenance": []
    },
    "kernelspec": {
      "name": "python3",
      "display_name": "Python 3"
    },
    "language_info": {
      "name": "python"
    }
  },
  "cells": [
    {
      "cell_type": "code",
      "execution_count": null,
      "metadata": {
        "id": "s4XrS2seV_vL"
      },
      "outputs": [],
      "source": [
        "import pandas as pd\n",
        "import seaborn as sns\n",
        "import numpy as np\n",
        "import matplotlib.pyplot as plt\n",
        "import gdown"
      ]
    },
    {
      "cell_type": "code",
      "source": [],
      "metadata": {
        "id": "92owJ1TMccwo"
      },
      "execution_count": null,
      "outputs": []
    },
    {
      "cell_type": "code",
      "source": [
        "url = \"https://d2beiqkhq929f0.cloudfront.net/public_assets/assets/000/001/125/original/aerofit_treadmill.csv?1639992749\"\n",
        "output_file = \"aerofit_treadmill.csv\"\n",
        "\n",
        "gdown.download(url, output_file, quiet=False)"
      ],
      "metadata": {
        "id": "--ddSxKZWn5q"
      },
      "execution_count": null,
      "outputs": []
    },
    {
      "cell_type": "code",
      "source": [
        "df = pd.read_csv(\"aerofit_treadmill.csv\")"
      ],
      "metadata": {
        "id": "Mk4jSnsIWw1_"
      },
      "execution_count": null,
      "outputs": []
    },
    {
      "cell_type": "code",
      "source": [
        "df.head()"
      ],
      "metadata": {
        "id": "gwoOvoJkXWB3"
      },
      "execution_count": null,
      "outputs": []
    },
    {
      "cell_type": "code",
      "source": [
        "df.describe()"
      ],
      "metadata": {
        "id": "KDcpEW7zXlVx"
      },
      "execution_count": null,
      "outputs": []
    },
    {
      "cell_type": "code",
      "source": [
        "df.value_counts()"
      ],
      "metadata": {
        "id": "JtV2VN7UH-V4"
      },
      "execution_count": null,
      "outputs": []
    },
    {
      "cell_type": "code",
      "source": [
        "conditions = [(df['Income'] >= 60000),\n",
        "              (df['Income'] >= 30000) & (df['Income'] < 60000),\n",
        "              (df['Income'] < 30000)]\n",
        "choices = ['high', 'medium', 'low']\n",
        "df['income range'] = pd.Series(np.select(conditions, choices))\n"
      ],
      "metadata": {
        "id": "v2LBj9E1fDSe"
      },
      "execution_count": null,
      "outputs": []
    },
    {
      "cell_type": "code",
      "source": [
        "bins = [18, 25, 35, 50]\n",
        "\n",
        "# Create labels for the bins\n",
        "labels = ['18-25', '26-35', '36-50']\n",
        "\n",
        "# Add a new column to the dataframe containing the bin labels\n",
        "df['Age_Bracket'] = pd.cut(df['Age'], bins=bins, labels=labels, include_lowest=True)\n",
        "\n",
        "# Print the new dataframe with the age brackets\n",
        "df"
      ],
      "metadata": {
        "colab": {
          "base_uri": "https://localhost:8080/",
          "height": 211
        },
        "id": "fSIrBJHFibGb",
        "outputId": "1aeab461-32c8-4cdb-82a4-14cde3dcc125"
      },
      "execution_count": 1,
      "outputs": [
        {
          "output_type": "error",
          "ename": "NameError",
          "evalue": "name 'pd' is not defined",
          "traceback": [
            "\u001b[0;31m---------------------------------------------------------------------------\u001b[0m",
            "\u001b[0;31mNameError\u001b[0m                                 Traceback (most recent call last)",
            "\u001b[0;32m<ipython-input-1-4872960b4e73>\u001b[0m in \u001b[0;36m<cell line: 7>\u001b[0;34m()\u001b[0m\n\u001b[1;32m      5\u001b[0m \u001b[0;34m\u001b[0m\u001b[0m\n\u001b[1;32m      6\u001b[0m \u001b[0;31m# Add a new column to the dataframe containing the bin labels\u001b[0m\u001b[0;34m\u001b[0m\u001b[0;34m\u001b[0m\u001b[0m\n\u001b[0;32m----> 7\u001b[0;31m \u001b[0mdf\u001b[0m\u001b[0;34m[\u001b[0m\u001b[0;34m'Age_Bracket'\u001b[0m\u001b[0;34m]\u001b[0m \u001b[0;34m=\u001b[0m \u001b[0mpd\u001b[0m\u001b[0;34m.\u001b[0m\u001b[0mcut\u001b[0m\u001b[0;34m(\u001b[0m\u001b[0mdf\u001b[0m\u001b[0;34m[\u001b[0m\u001b[0;34m'Age'\u001b[0m\u001b[0;34m]\u001b[0m\u001b[0;34m,\u001b[0m \u001b[0mbins\u001b[0m\u001b[0;34m=\u001b[0m\u001b[0mbins\u001b[0m\u001b[0;34m,\u001b[0m \u001b[0mlabels\u001b[0m\u001b[0;34m=\u001b[0m\u001b[0mlabels\u001b[0m\u001b[0;34m,\u001b[0m \u001b[0minclude_lowest\u001b[0m\u001b[0;34m=\u001b[0m\u001b[0;32mTrue\u001b[0m\u001b[0;34m)\u001b[0m\u001b[0;34m\u001b[0m\u001b[0;34m\u001b[0m\u001b[0m\n\u001b[0m\u001b[1;32m      8\u001b[0m \u001b[0;34m\u001b[0m\u001b[0m\n\u001b[1;32m      9\u001b[0m \u001b[0;31m# Print the new dataframe with the age brackets\u001b[0m\u001b[0;34m\u001b[0m\u001b[0;34m\u001b[0m\u001b[0m\n",
            "\u001b[0;31mNameError\u001b[0m: name 'pd' is not defined"
          ]
        }
      ]
    },
    {
      "cell_type": "code",
      "source": [
        "# STATISTICAL SUMMARY\n"
      ],
      "metadata": {
        "id": "Rk-did9x0Dbu"
      },
      "execution_count": null,
      "outputs": []
    },
    {
      "cell_type": "markdown",
      "source": [
        "Based on the statistical summary, the following observations can be made:\n",
        "\n",
        "1. The sample contains 180 individuals with a mean age of approximately 29 years.\n",
        "2. The average education level is around 15 years, with a minimum of 12 years and a maximum of 21 years.\n",
        "3. The average usage is around 3.5 times per week, with a minimum of 2 times and a maximum of 7 times.\n",
        "4. The average fitness level is around 3.3, with a minimum of 1 and a maximum of 5.\n",
        "5. The average income is approximately 53,700 USD per year, with a standard deviation of 16,500 USD.\n",
        "6. The average distance covered in a week is around 103 miles, with a minimum of 21 miles and a maximum of 360 miles.\n",
        "\n",
        "\n",
        "\n",
        "Overall, the sample appears to be relatively healthy and active, with a high level of education and a moderate income."
      ],
      "metadata": {
        "id": "hxCsXsGy0COL"
      }
    },
    {
      "cell_type": "code",
      "source": [
        "df.info()"
      ],
      "metadata": {
        "id": "DsqD7HBQXnpT"
      },
      "execution_count": null,
      "outputs": []
    },
    {
      "cell_type": "code",
      "source": [
        "df.shape"
      ],
      "metadata": {
        "id": "L7Ys6HleXogL"
      },
      "execution_count": null,
      "outputs": []
    },
    {
      "cell_type": "code",
      "source": [
        "# as we can see , we dont have any missing values in our data"
      ],
      "metadata": {
        "id": "1PipswOtXp87"
      },
      "execution_count": null,
      "outputs": []
    },
    {
      "cell_type": "code",
      "source": [
        "gender_count = df['Gender'].value_counts()\n",
        "\n",
        "# create a pie chart\n",
        "plt.figure(figsize=(8, 6))\n",
        "sns.set(style=\"whitegrid\")\n",
        "sns.color_palette(\"pastel\")\n",
        "plt.pie(gender_count, labels=gender_count.index, autopct='%1.1f%%', startangle=90, explode=[0.05,0])\n",
        "plt.title('Distribution of Gender')\n",
        "plt.show()"
      ],
      "metadata": {
        "id": "vTiWTpuKYUof"
      },
      "execution_count": null,
      "outputs": []
    },
    {
      "cell_type": "code",
      "source": [
        "gender_count = df['Gender'].value_counts()\n",
        "gender_count"
      ],
      "metadata": {
        "id": "3HGWKFSx8n2X"
      },
      "execution_count": null,
      "outputs": []
    },
    {
      "cell_type": "code",
      "source": [
        "sns.set_style(\"darkgrid\")\n",
        "\n",
        "# create a histogram plot with 10 bins\n",
        "sns.histplot(df['Age'], bins=10 , kde = True)\n",
        "\n",
        "# set the plot title and axis labels\n",
        "plt.title('Distribution of Age')\n",
        "plt.xlabel('Age')\n",
        "plt.ylabel('Count')\n",
        "\n",
        "# show the plot\n",
        "plt.show()"
      ],
      "metadata": {
        "id": "xCbI5LU-ZiO0"
      },
      "execution_count": null,
      "outputs": []
    },
    {
      "cell_type": "code",
      "source": [
        "\n",
        "sns.boxplot(x=df[\"Age\"])\n",
        "plt.title('Finding Outliers')\n",
        "plt.xlabel('Age')\n",
        "plt.ylabel('Count')\n",
        "plt.show()\n"
      ],
      "metadata": {
        "id": "GHIh-4WrZ8qu"
      },
      "execution_count": null,
      "outputs": []
    },
    {
      "cell_type": "code",
      "source": [
        "df[\"Age\"].describe()"
      ],
      "metadata": {
        "id": "W1l6AV5ha8zj"
      },
      "execution_count": null,
      "outputs": []
    },
    {
      "cell_type": "code",
      "source": [
        "mean = df[\"Age\"].mean()\n",
        "median = df[\"Age\"].median()\n",
        "difference = mean - median\n",
        "difference"
      ],
      "metadata": {
        "id": "8MRLwO4gb0vU"
      },
      "execution_count": null,
      "outputs": []
    },
    {
      "cell_type": "code",
      "source": [
        "married_count = len(df[df[\"MaritalStatus\"] == \"Partnered\"])\n",
        "single_count = len(df[df[\"MaritalStatus\"] == \"Single\"])\n",
        "\n",
        "# Creating the pie chart\n",
        "labels = [\"Married\", \"Single\"]\n",
        "sizes = [married_count, single_count]\n",
        "explode = (0, 0.1) # Exploding the \"Single\" slice of the pie\n",
        "colors = [\"#FFA07A\", \"#87CEFA\"]\n",
        "plt.pie(sizes, explode=explode, labels=labels, colors=colors, autopct='%1.1f%%', startangle=90)\n",
        "plt.axis(\"equal\")\n",
        "\n",
        "# Setting the title of the pie chart\n",
        "plt.title(\"Married vs Single\")\n",
        "\n",
        "# Displaying the pie chart\n",
        "plt.show()"
      ],
      "metadata": {
        "id": "KHmPQYY6MIMB"
      },
      "execution_count": null,
      "outputs": []
    },
    {
      "cell_type": "code",
      "source": [
        "sns.histplot(data=df, x=\"Income\" , hue = \"Product\")\n",
        "plt.title(\"Income Distribution\")\n",
        "plt.show()"
      ],
      "metadata": {
        "id": "6CLwgd7VM3YE"
      },
      "execution_count": null,
      "outputs": []
    },
    {
      "cell_type": "code",
      "source": [
        "sns.countplot(x='MaritalStatus', hue='Product', data=df)"
      ],
      "metadata": {
        "id": "pIxHPcHab6Bk"
      },
      "execution_count": null,
      "outputs": []
    },
    {
      "cell_type": "code",
      "source": [
        "sns.countplot(x='Age_Bracket', hue='Product', data=df)\n",
        "plt.title(\"Relation Between age brackets and type of Product\")\n",
        "plt.show()"
      ],
      "metadata": {
        "id": "5wyrmc33OKuE"
      },
      "execution_count": null,
      "outputs": []
    },
    {
      "cell_type": "code",
      "source": [
        "sns.histplot(x='Age', hue='Product', data=df)\n",
        "plt.title(\"relation between age and product\")\n",
        "plt.show()"
      ],
      "metadata": {
        "id": "qA2MqRU0c81S"
      },
      "execution_count": null,
      "outputs": []
    },
    {
      "cell_type": "code",
      "source": [
        "sns.boxplot(x='Product', y='Age', data=df)\n",
        "plt.title(\"Age and Product\")\n",
        "plt.show()"
      ],
      "metadata": {
        "id": "YyNG1dJadNYj"
      },
      "execution_count": null,
      "outputs": []
    },
    {
      "cell_type": "code",
      "source": [
        "marginal_prob = pd.crosstab(index=df['Product'], columns='count', normalize=True)\n",
        "marginal_prob *= 100\n",
        "marginal_prob"
      ],
      "metadata": {
        "id": "X_rp8KmcdO4k"
      },
      "execution_count": null,
      "outputs": []
    },
    {
      "cell_type": "code",
      "source": [
        "labels = marginal_prob.index.tolist()\n",
        "sizes = marginal_prob.values.flatten().tolist()\n",
        "\n",
        "# plot the pie chart\n",
        "plt.figure(figsize=(6,6))\n",
        "sns.set_style(\"whitegrid\")\n",
        "colors = [\"#FDB813\", \"#F77737\", \"#CD525C\"]\n",
        "plt.pie(sizes, labels=labels, colors=colors, autopct='%1.1f%%', startangle=90, pctdistance=0.85)\n",
        "plt.title(\"Marginal Probability of Product Purchases\")\n",
        "plt.show()"
      ],
      "metadata": {
        "id": "HTIXxl58dlEC"
      },
      "execution_count": null,
      "outputs": []
    },
    {
      "cell_type": "markdown",
      "source": [],
      "metadata": {
        "id": "7k7eX2NgJh2t"
      }
    },
    {
      "cell_type": "code",
      "source": [
        "# Filter the data to include only KP781 treadmills\n",
        "kp781_df = df[df['Product'] == 'KP281']\n",
        "\n",
        "# Count the number of male customers who bought the product\n",
        "male_count = len(kp781_df[kp781_df['Gender'] == 'Male'])\n",
        "\n",
        "# Count the total number of customers who bought the product\n",
        "total_count = len(kp781_df)\n",
        "\n",
        "# Calculate the probability of a male customer buying the product\n",
        "prob_male_buy = male_count / total_count\n",
        "\n",
        "prob_male_buy"
      ],
      "metadata": {
        "id": "7jkTqSFmeUMF"
      },
      "execution_count": null,
      "outputs": []
    },
    {
      "cell_type": "code",
      "source": [
        "# Probability of a male customer buying KP781:   0.5"
      ],
      "metadata": {
        "id": "4rDTTehnhmce"
      },
      "execution_count": null,
      "outputs": []
    },
    {
      "cell_type": "code",
      "source": [
        "# Generate a correlation matrix for the dataframe\n",
        "corr_matrix = df.corr()\n",
        "\n",
        "# Set up the figure size\n",
        "fig, ax = plt.subplots(figsize=(10, 8))\n",
        "\n",
        "# Generate the heatmap using seaborn\n",
        "sns.heatmap(corr_matrix, annot=True, cmap='coolwarm', linewidths=.5, ax=ax)\n",
        "\n",
        "# Add a title to the plot\n",
        "ax.set_title('Correlation Heatmap')\n",
        "\n",
        "# Show the plot\n",
        "plt.show()"
      ],
      "metadata": {
        "id": "EAtTLr7zIXTy"
      },
      "execution_count": null,
      "outputs": []
    },
    {
      "cell_type": "code",
      "source": [],
      "metadata": {
        "id": "ZgOomzHNIxZj"
      },
      "execution_count": null,
      "outputs": []
    },
    {
      "cell_type": "markdown",
      "source": [
        "5.1\n",
        "\n",
        "The Age attribute ranges from 18 to 50, which indicates that the data represents a sample of individuals aged between 18 and 50 years. The Education attribute ranges from 12 to 18, which indicates that the individuals in the dataset have completed education ranging from high school to college. The Income attribute ranges from 29562 to 104581, indicating a wide range of income levels.\n",
        "\n",
        "The Miles attribute ranges from 38 to 188, which indicates that individuals in the dataset are using the fitness equipment for varying distances. The Usage attribute ranges from 2 to 5, which indicates how frequently individuals use the fitness equipment. The Fitness attribute ranges from 1 to 5, indicating the level of fitness of individuals in the dataset.\n",
        "\n",
        "Overall, the range of attributes in this dataset is quite diverse, which may provide valuable insights into the behavior and characteristics of customers who purchase fitness equipment.\n",
        "\n",
        "\n"
      ],
      "metadata": {
        "id": "vhqZArOgKztf"
      }
    },
    {
      "cell_type": "code",
      "source": [],
      "metadata": {
        "id": "DIj3j3PaK5RC"
      },
      "execution_count": null,
      "outputs": []
    },
    {
      "cell_type": "markdown",
      "source": [
        "5.2  The distribution of variables\n",
        "\n",
        "      1. We are having Three Products in our inventory.\n",
        "      2. The age is ranging between 18 to 50.\n",
        "      3. We can see that the count of males is higher than that of females from the pie chart plotted above.\n",
        "      4. Almost 60% of the customers are married and the remaining are single.\n",
        "      5. The income is having a pretty uneven distribution across the range , where majority is earning below 70,000 $\n",
        "  \n",
        " In terms of relationships between variables, there are a few notable patterns. Income and age are positively correlated, as are income and education. There is a weak positive correlation between income and miles run per week. Fitness and usage also show a weak positive correlation. Finally, there is no clear relationship between gender and any of the other variables."
      ],
      "metadata": {
        "id": "BgU0iWStK7Q3"
      }
    },
    {
      "cell_type": "code",
      "source": [
        "cont_table1 = pd.crosstab(df[\"Gender\"], df[\"Product\"] , normalize = \"index\")\n",
        "\n",
        "# display the table\n",
        "print(cont_table1)"
      ],
      "metadata": {
        "id": "NC8rzJVdceUJ"
      },
      "execution_count": null,
      "outputs": []
    },
    {
      "cell_type": "code",
      "source": [
        "cont_table2 = pd.crosstab(df[\"income range\"], df[\"Product\"] ,normalize = \"index\")\n",
        "\n",
        "# display the table\n",
        "print(cont_table2)"
      ],
      "metadata": {
        "id": "Ah7YVh3ad3g9"
      },
      "execution_count": null,
      "outputs": []
    },
    {
      "cell_type": "markdown",
      "source": [
        "\n",
        "**Based on the analysis of the customer data, here are my recommendations for Aerofit:**\n",
        "\n",
        "1] Promote the KP781 model in the high and medium income range bracket as they are more likely to buy it. The data shows that customers in the higher income brackets are more likely to purchase higher-end products. Therefore, Aerofit should focus on marketing and promoting the KP781 model to customers in these income ranges to increase sales.\n",
        "\n",
        "\n",
        "2] Aerofit should also focus on marketing the products to married people, as they are more likely to buy the products than unmarried ones. This could be done by running targeted ads or creating campaigns that focus on the benefits of using Aerofit products for couples.\n",
        "Aerofit should also take into account the gender preferences for their products.\n",
        "\n",
        "\n",
        "3] Females are more likely to buy the KP281 model than males, while the KP781 is preferred by males. This information could be used to develop targeted marketing campaigns for each model, highlighting the features that appeal most to each gender.\n"
      ],
      "metadata": {
        "id": "Pxt95VlmmqDv"
      }
    }
  ]
}